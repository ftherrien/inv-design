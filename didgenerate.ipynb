{
 "cells": [
  {
   "cell_type": "markdown",
   "id": "0189b879",
   "metadata": {},
   "source": [
    "# Direct Inverse Design Generation"
   ]
  },
  {
   "cell_type": "markdown",
   "id": "bd1c06ab",
   "metadata": {},
   "source": [
    "Run the cell below to generate molecules as follows: \n",
    "\n",
    "`generate(target_property, number_of_molecules, output_folder, [config_file]).`\n",
    "\n",
    "Hyperparamters are set by default in `config.yml`. The `out_gen` folder contains a pretrained HOMO-LUMO model with default paramters. Running the next line *as is* will create one molecule with a HOMO-LUMO gap close to 2.7 eV (+/- 0.3 eV)."
   ]
  },
  {
   "cell_type": "code",
   "execution_count": 1,
   "id": "13bd77a3",
   "metadata": {},
   "outputs": [
    {
     "name": "stdout",
     "output_type": "stream",
     "text": [
      "Size of database: 763\n",
      "FINAL TRAIN RMSE tensor(0.4395, grad_fn=<MseLossBackward0>)\n",
      "FINAL TEST RMSE tensor(0.4890, grad_fn=<MseLossBackward0>)\n",
      "Starting molecule generation loop\n",
      "------------------------------------\n",
      "Molecule 0:\n",
      "INIT ADJ_VEC tensor([-0.5234,  0.8325, -0.1109,  1.3541,  0.4486,  0.3791, -0.3422, -1.4642,\n",
      "         0.0760,  0.2851,  0.8921,  1.1201, -0.7500, -0.1656, -0.8993,  0.3386,\n",
      "         1.4590, -1.0168, -2.1403, -0.7133,  1.2141, -0.4266,  0.4193,  1.0699,\n",
      "         1.8294, -1.4413,  1.7818,  0.5412, -1.1863, -1.1639,  0.1885, -0.7208,\n",
      "         0.3943, -0.8516,  1.2298,  1.8600,  1.5968, -0.8108, -1.2008,  0.6196,\n",
      "        -0.7633, -1.4504, -0.6856,  1.3020,  1.2990])\n",
      "INIT FEA_H tensor([[[-0.5930, -0.2341, -0.4063,  1.6157,  0.6563, -0.9700],\n",
      "         [ 0.2658, -0.9609, -0.9406, -0.3654, -0.5186,  0.5366],\n",
      "         [ 2.6806,  1.5249, -0.8385, -0.2133,  1.1777, -0.7078],\n",
      "         [ 0.4561,  2.0861, -0.6946,  0.2140,  1.6562, -0.4027],\n",
      "         [-1.1928,  2.2318,  0.1054, -0.2055,  0.8744,  2.9914],\n",
      "         [ 1.2728, -0.8614, -0.8185, -0.7867,  0.4568,  1.8462],\n",
      "         [ 0.4861, -0.7817, -0.3208, -0.9536, -1.1657, -0.6279],\n",
      "         [-0.3546, -0.4239,  0.9660, -0.5406, -2.4343,  1.0642],\n",
      "         [ 1.1228, -1.3799,  0.6526, -0.9093, -0.9250, -2.4899],\n",
      "         [-0.7965, -0.3162, -0.2660, -1.7918,  0.5616, -0.3532]]])\n",
      "Model estimate for starting point: tensor([[39.1309]], grad_fn=<AddmmBackward0>) tensor(862.3907, grad_fn=<SumBackward0>) tensor(0.0382, grad_fn=<SumBackward0>) tensor(0.0793, grad_fn=<SumBackward0>)\n",
      "Generating molecule with requested property...\n"
     ]
    },
    {
     "name": "stderr",
     "output_type": "stream",
     "text": [
      " 44%|██████████████▊                   | 13103/30000 [00:31<00:41, 411.91it/s]"
     ]
    },
    {
     "name": "stdout",
     "output_type": "stream",
     "text": [
      "Generation successful\n",
      "Final property value: tensor([[2.8809]], grad_fn=<AddmmBackward0>)\n",
      "Trying to print image ???????????????????????????????????????\n",
      "Embeding failed!\n",
      "Final property value after rounding: tensor([[2.8857]], grad_fn=<AddmmBackward0>)\n",
      "Final property value after rounding (adj_r): tensor([[2.8837]], grad_fn=<AddmmBackward0>)\n",
      "Final property value after rounding (fea_r): tensor([[2.8832]], grad_fn=<AddmmBackward0>)\n",
      "ROUNDING DIFF\n",
      "FEA\n",
      "tensor(0.0609, grad_fn=<MaxBackward1>)\n",
      "ADJ\n",
      "tensor(0.0500, grad_fn=<MaxBackward1>)\n",
      "ROUNDED FINAL ATOM FEA\n",
      "tensor([[0., 1., 0., 0., 0., 0.],\n",
      "        [0., 1., 0., 0., 0., 0.],\n",
      "        [0., 1., 0., 0., 0., 0.],\n",
      "        [0., 1., 0., 0., 0., 0.],\n",
      "        [0., 1., 0., 0., 0., 0.],\n",
      "        [0., 1., 0., 0., 0., 0.],\n",
      "        [0., 1., 0., 0., 0., 0.],\n",
      "        [0., 1., 0., 0., 0., 0.],\n",
      "        [0., 1., 0., 0., 0., 0.],\n",
      "        [0., 1., 0., 0., 0., 0.]])\n",
      "ROUNDED FINAL ADJ\n",
      "tensor([[0., 0., 1., 1., 0., 0., 0., 0., 1., 1.],\n",
      "        [0., 0., 0., 0., 2., 1., 1., 0., 0., 0.],\n",
      "        [1., 0., 0., 0., 2., 0., 0., 0., 0., 1.],\n",
      "        [1., 0., 0., 0., 0., 0., 2., 1., 0., 0.],\n",
      "        [0., 2., 2., 0., 0., 0., 0., 0., 0., 0.],\n",
      "        [0., 1., 0., 0., 0., 0., 1., 1., 0., 1.],\n",
      "        [0., 1., 0., 2., 0., 1., 0., 0., 0., 0.],\n",
      "        [0., 0., 0., 1., 0., 1., 0., 0., 2., 0.],\n",
      "        [1., 0., 0., 0., 0., 0., 0., 2., 0., 1.],\n",
      "        [1., 0., 1., 0., 0., 1., 0., 0., 1., 0.]], grad_fn=<SqueezeBackward0>)\n",
      "BONDS PER ATOM\n",
      "tensor([3.8865, 3.8994, 3.8997, 3.8987, 3.8993, 3.8941, 3.8982, 3.8989, 3.8996,\n",
      "        3.8991], grad_fn=<MvBackward0>)\n",
      "SUM ADJ\n",
      "tensor([[4.0035, 3.9381, 4.0486, 4.0003, 4.0248, 4.0492, 4.0458, 4.0411, 3.9951,\n",
      "         4.0076]], grad_fn=<SumBackward1>)\n",
      "Rounded BONDS PER ATOM\n",
      "tensor([4., 4., 4., 4., 4., 4., 4., 4., 4., 4.])\n",
      "Rounded SUM ADJ\n",
      "tensor([4., 4., 4., 4., 4., 4., 4., 4., 4., 4.], grad_fn=<SumBackward1>)\n"
     ]
    },
    {
     "name": "stderr",
     "output_type": "stream",
     "text": [
      "\n"
     ]
    }
   ],
   "source": [
    "from didgen import generate\n",
    "generate(9, 1, \"out_gen\")"
   ]
  },
  {
   "cell_type": "code",
   "execution_count": null,
   "id": "c8d6cde3",
   "metadata": {},
   "outputs": [],
   "source": []
  }
 ],
 "metadata": {
  "kernelspec": {
   "display_name": "Python 3 (ipykernel)",
   "language": "python",
   "name": "python3"
  },
  "language_info": {
   "codemirror_mode": {
    "name": "ipython",
    "version": 3
   },
   "file_extension": ".py",
   "mimetype": "text/x-python",
   "name": "python",
   "nbconvert_exporter": "python",
   "pygments_lexer": "ipython3",
   "version": "3.10.7"
  }
 },
 "nbformat": 4,
 "nbformat_minor": 5
}
