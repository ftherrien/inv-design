{
  "cells": [
    {
      "cell_type": "markdown",
      "id": "0189b879",
      "metadata": {
        "id": "0189b879"
      },
      "source": [
        "# Direct Inverse Design Generation"
      ]
    },
    {
      "cell_type": "markdown",
      "id": "bd1c06ab",
      "metadata": {
        "id": "bd1c06ab"
      },
      "source": [
        "Run the cells below to generate molecules.\n",
        "\n",
        "The default paramaters will download QM9, train a GNN to predict the HOMO-LUMO gap and generate a molecule with a gap close to 4.1 eV.\n",
        "\n",
        "Try it out!"
      ]
    },
    {
      "cell_type": "code",
      "source": [
        "# @title Installing dependencies (Colab only)\n",
        "import torch\n",
        "\n",
        "def format_pytorch_version(version):\n",
        "  return version.split('+')[0]\n",
        "\n",
        "TORCH_version = torch.__version__\n",
        "TORCH = format_pytorch_version(TORCH_version)\n",
        "\n",
        "def format_cuda_version(version):\n",
        "  return 'cu' + version.replace('.', '')\n",
        "\n",
        "CUDA_version = torch.version.cuda\n",
        "CUDA = format_cuda_version(CUDA_version)\n",
        "\n",
        "!pip install torch-scatter -f https://data.pyg.org/whl/torch-{TORCH}+{CUDA}.html\n",
        "!pip install torch-sparse -f https://data.pyg.org/whl/torch-{TORCH}+{CUDA}.html\n",
        "!pip install torch-cluster -f https://data.pyg.org/whl/torch-{TORCH}+{CUDA}.html\n",
        "!pip install torch-spline-conv -f https://data.pyg.org/whl/torch-{TORCH}+{CUDA}.html\n",
        "!pip install torch-geometric"
      ],
      "metadata": {
        "id": "Gc0AmOT7Cnht",
        "cellView": "form"
      },
      "id": "Gc0AmOT7Cnht",
      "execution_count": null,
      "outputs": []
    },
    {
      "cell_type": "code",
      "source": [
        "# @title Installing didgen\n",
        "!git clone https://github.com/ftherrien/inv-design.git\n",
        "%cd inv-design/\n",
        "!pip install -e ."
      ],
      "metadata": {
        "id": "pNJsBmRAKrA7"
      },
      "id": "pNJsBmRAKrA7",
      "execution_count": null,
      "outputs": []
    },
    {
      "cell_type": "code",
      "execution_count": null,
      "id": "13bd77a3",
      "metadata": {
        "id": "13bd77a3"
      },
      "outputs": [],
      "source": [
        "# @title Training and Generating\n",
        "from didgen import generate\n",
        "from IPython.display import Image, display\n",
        "generate(1, \"out_gen\", {\"max_size\":15, \"num_epochs\": 100}, seed=0)\n",
        "Image(\"out_gen/drawings/generated_mol_0.png\")"
      ]
    },
    {
      "cell_type": "code",
      "source": [
        "# @title Generating from trained model\n",
        "generate(5, \"out_gen\", {\"max_size\":15, \"num_epochs\": 100, \"use_pretrained\":True}, seed=0)\n",
        "display(Image(\"out_gen/drawings/generated_mol_0.png\"))\n",
        "display(Image(\"out_gen/drawings/generated_mol_1.png\"))\n",
        "display(Image(\"out_gen/drawings/generated_mol_2.png\"))\n",
        "display(Image(\"out_gen/drawings/generated_mol_3.png\"))\n",
        "display(Image(\"out_gen/drawings/generated_mol_4.png\"))"
      ],
      "metadata": {
        "id": "RtZTIVnFNzAk"
      },
      "id": "RtZTIVnFNzAk",
      "execution_count": null,
      "outputs": []
    }
  ],
  "metadata": {
    "kernelspec": {
      "display_name": "Python 3 (ipykernel)",
      "language": "python",
      "name": "python3"
    },
    "language_info": {
      "codemirror_mode": {
        "name": "ipython",
        "version": 3
      },
      "file_extension": ".py",
      "mimetype": "text/x-python",
      "name": "python",
      "nbconvert_exporter": "python",
      "pygments_lexer": "ipython3",
      "version": "3.10.7"
    },
    "colab": {
      "provenance": []
    }
  },
  "nbformat": 4,
  "nbformat_minor": 5
}